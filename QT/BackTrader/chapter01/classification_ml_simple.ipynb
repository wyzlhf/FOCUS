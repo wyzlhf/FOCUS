{
 "cells": [
  {
   "cell_type": "code",
   "id": "initial_id",
   "metadata": {
    "collapsed": true,
    "ExecuteTime": {
     "end_time": "2025-07-12T20:48:13.879554Z",
     "start_time": "2025-07-12T20:48:13.865692Z"
    }
   },
   "source": "import numpy as np\n",
   "outputs": [
    {
     "name": "stdout",
     "output_type": "stream",
     "text": [
      "1\n"
     ]
    }
   ],
   "execution_count": 1
  },
  {
   "metadata": {
    "ExecuteTime": {
     "end_time": "2025-07-12T20:48:10.130278Z",
     "start_time": "2025-07-12T20:48:10.122308Z"
    }
   },
   "cell_type": "code",
   "source": "",
   "id": "415fbd0d13808be1",
   "outputs": [],
   "execution_count": null
  },
  {
   "metadata": {
    "ExecuteTime": {
     "end_time": "2025-07-13T00:16:18.686307Z",
     "start_time": "2025-07-13T00:16:14.915215Z"
    }
   },
   "cell_type": "code",
   "source": [
    "import numpy as np\n",
    "import pandas as pd\n",
    "from matplotlib import pyplot as plt\n",
    "import warnings\n",
    "from sklearn import linear_model\n",
    "from sklearn.naive_bayes import GaussianNB\n",
    "from sklearn.svm import SVC\n",
    "from sklearn.ensemble import RandomForestClassifier\n",
    "from sklearn.neural_network import MLPClassifier\n",
    "import datetime\n",
    "import pyfolio as pf\n",
    "import backtrader as bt\n",
    "from backtrader.feeds import PandasData\n",
    "import joblib\n",
    "import akshare as ak\n",
    "from sklearn.model_selection import train_test_split\n",
    "from sklearn.metrics import classification_report, confusion_matrix, accuracy_score\n",
    "\n",
    "# Permanently changes the pandas settings\n",
    "pd.set_option('display.max_rows', None)\n",
    "pd.set_option('display.max_columns', None)\n",
    "# pd.set_option('display.width', None)\n",
    "# pd.set_option('display.max_colwidth', -1)\n",
    "\n",
    "stock = ak.stock_zh_a_daily('sh600000', start_date='20100101', end_date='20100731', adjust='hfq')\n",
    "stock.set_index(['date'], inplace=True)\n",
    "prices = stock\n",
    "prices.drop(['outstanding_share', 'turnover'], axis=1, inplace=True)\n",
    "stock = stock['close'].to_frame()\n",
    "stock['returns'] = np.log(stock / stock.shift(1))\n",
    "stock.dropna(inplace=True)\n",
    "stock['direction'] = np.sign(stock['returns']).astype(int)\n",
    "stock.dropna(inplace=True)\n",
    "stock['next_direction'] = stock['direction'].shift(-1)\n",
    "lags = [1, 2, 3, 4, 5]\n",
    "features_cols = ['direction']\n",
    "for lag in lags:\n",
    "    col = f'direction_lag{lag}'\n",
    "    stock[col] = stock['direction'].shift(lag)\n",
    "    features_cols.append(col)\n",
    "stock.dropna(inplace=True)\n",
    "# print(stock)\n",
    "X_train, X_test, y_train, y_test = train_test_split(stock[features_cols], stock['next_direction'], test_size=0.2,\n",
    "                                                    shuffle=False)\n",
    "clf = SVC()\n",
    "clf.fit(X_train, y_train)\n",
    "y_predicted = clf.predict(X_test)\n",
    "# print(accuracy_score(y_test,y_predicted))\n",
    "# print(classification_report(y_test,y_predicted))\n",
    "# print(confusion_matrix(y_test,y_predicted))\n",
    "prices = prices.loc[y_test.index]\n",
    "prices['predicted'] = y_predicted\n",
    "\n",
    "\n",
    "class MLStrategy(bt.Strategy):\n",
    "    params = dict(\n",
    "\n",
    "    )\n",
    "\n",
    "    def __init__(self):\n",
    "        self.data_open = self.datas[0].open\n",
    "        self.data_close = self.datas[0].close\n",
    "\n",
    "    def log(self, txt, dt=None):\n",
    "        dt = dt or self.datas[0].datetime.datetime(0)\n",
    "        print(f'{dt}: {txt}')\n",
    "\n",
    "    def notify_order(self, order):\n",
    "        if order.status in [order.Submitted, order.Accepted]:\n",
    "            return\n",
    "        if order.status in [order.Completed]:\n",
    "            if order.isbuy():\n",
    "                self.log(\n",
    "                    f'买单执行，价格： {order.executed.price:.2f}，价值： {order.executed.value:.2f}，佣金： {order.executed.comm:.2f}')\n",
    "            else:\n",
    "                self.log(\n",
    "                    f'卖单执行，价格： {order.executed.price:.2f}，价值： {order.executed.value:.2f}，佣金： {order.executed.comm:.2f}')\n",
    "        if order.status in [order.Canceled, order.Margin, order.Rejected]:\n",
    "            self.log(f'订单失败')\n",
    "    def notify_trade(self, trade):\n",
    "        if not trade.isclosed:\n",
    "            return\n",
    "        self.log(f'OPERATION RESULT --- Gross: {trade.pnl:.2f}, Net: {trade.pnlcomm:.2f}')\n",
    "    def next(self):\n",
    "        if not self.position:\n",
    "            if self.data.predicted[0]>0:\n",
    "                size=int(self.broker.getcash()*0.95/self.data.close[0])\n",
    "                self.log(f'BUY CREATE --- Size:{size},Cash: {self.broker.getcash():.2f},Open: {self.data_open[0]}, Close: {self.data_close[0]}')\n",
    "                self.buy(size=size)\n",
    "        else:\n",
    "            if self.data.predicted[0]<0:\n",
    "                self.log(f'SELL CREATED --- Size: {self.position.size}')\n",
    "                self.close()\n",
    "class PandasData_ext(PandasData):\n",
    "    lines=('predicted',)\n",
    "    params=(('predicted',5),)\n",
    "data=PandasData_ext(\n",
    "    dataname=prices,\n",
    "    datetime=None,\n",
    "    open=0,\n",
    "    high=1,\n",
    "    low=2,\n",
    "    close=3,\n",
    "    volume=4,\n",
    "    predicted=5,\n",
    "    openinterest=-1,\n",
    ")\n",
    "cerebro = bt.Cerebro()\n",
    "cerebro.addstrategy(MLStrategy)\n",
    "cerebro.adddata(data,name='sh600000')\n",
    "cerebro.broker.setcash(100000.0)\n",
    "cerebro.broker.setcommission(commission=0.001)\n",
    "cerebro.addanalyzer(bt.analyzers.PyFolio,_name='pyfolio')\n",
    "print(f'Starting Portfolio Value: {cerebro.broker.getvalue()}')\n",
    "backtest_results = cerebro.run()\n",
    "print(f'Final Portfolio Value: {cerebro.broker.getvalue()}')\n",
    "\n",
    "strat=backtest_results[0]\n",
    "pyfoliozer=strat.analyzers.getbyname('pyfolio')\n",
    "returns,positions,transactions,gross_lev=pyfoliozer.get_pf_items()\n",
    "returns.name='Strategy'\n",
    "X_test['returns']=stock['returns']\n",
    "benchmark_rets=X_test['returns']\n",
    "benchmark_rets.inde=benchmark_rets.index.tz_localize('UTC')\n",
    "benchmark_rets=benchmark_rets.filter(returns.index)\n",
    "benchmark_rets.name='benchmark'\n",
    "pf.create_full_tear_sheet(\n",
    "    returns,\n",
    "    positions=positions,\n",
    "    benchmark_rets=benchmark_rets,\n",
    "    round_trips=True,\n",
    ")"
   ],
   "id": "d832aa64f25cb24e",
   "outputs": [
    {
     "name": "stderr",
     "output_type": "stream",
     "text": [
      "D:\\CODE\\PYTHON\\FOCUS\\.venv\\lib\\site-packages\\pyfolio\\pos.py:25: UserWarning: Module \"zipline.assets\" not found; multipliers will not be applied to position notionals.\n",
      "  warnings.warn(\n"
     ]
    },
    {
     "name": "stdout",
     "output_type": "stream",
     "text": [
      "Starting Portfolio Value: 100000.0\n"
     ]
    },
    {
     "ename": "AttributeError",
     "evalue": "'datetime.date' object has no attribute 'to_pydatetime'",
     "output_type": "error",
     "traceback": [
      "\u001B[1;31m---------------------------------------------------------------------------\u001B[0m",
      "\u001B[1;31mAttributeError\u001B[0m                            Traceback (most recent call last)",
      "Cell \u001B[1;32mIn[2], line 115\u001B[0m\n\u001B[0;32m    113\u001B[0m cerebro\u001B[38;5;241m.\u001B[39maddanalyzer(bt\u001B[38;5;241m.\u001B[39manalyzers\u001B[38;5;241m.\u001B[39mPyFolio,_name\u001B[38;5;241m=\u001B[39m\u001B[38;5;124m'\u001B[39m\u001B[38;5;124mpyfolio\u001B[39m\u001B[38;5;124m'\u001B[39m)\n\u001B[0;32m    114\u001B[0m \u001B[38;5;28mprint\u001B[39m(\u001B[38;5;124mf\u001B[39m\u001B[38;5;124m'\u001B[39m\u001B[38;5;124mStarting Portfolio Value: \u001B[39m\u001B[38;5;132;01m{\u001B[39;00mcerebro\u001B[38;5;241m.\u001B[39mbroker\u001B[38;5;241m.\u001B[39mgetvalue()\u001B[38;5;132;01m}\u001B[39;00m\u001B[38;5;124m'\u001B[39m)\n\u001B[1;32m--> 115\u001B[0m backtest_results \u001B[38;5;241m=\u001B[39m \u001B[43mcerebro\u001B[49m\u001B[38;5;241;43m.\u001B[39;49m\u001B[43mrun\u001B[49m\u001B[43m(\u001B[49m\u001B[43m)\u001B[49m\n\u001B[0;32m    116\u001B[0m \u001B[38;5;28mprint\u001B[39m(\u001B[38;5;124mf\u001B[39m\u001B[38;5;124m'\u001B[39m\u001B[38;5;124mFinal Portfolio Value: \u001B[39m\u001B[38;5;132;01m{\u001B[39;00mcerebro\u001B[38;5;241m.\u001B[39mbroker\u001B[38;5;241m.\u001B[39mgetvalue()\u001B[38;5;132;01m}\u001B[39;00m\u001B[38;5;124m'\u001B[39m)\n\u001B[0;32m    118\u001B[0m strat\u001B[38;5;241m=\u001B[39mbacktest_results[\u001B[38;5;241m0\u001B[39m]\n",
      "File \u001B[1;32mD:\\CODE\\PYTHON\\FOCUS\\.venv\\lib\\site-packages\\backtrader\\cerebro.py:1132\u001B[0m, in \u001B[0;36mCerebro.run\u001B[1;34m(self, **kwargs)\u001B[0m\n\u001B[0;32m   1128\u001B[0m \u001B[38;5;28;01mif\u001B[39;00m \u001B[38;5;129;01mnot\u001B[39;00m \u001B[38;5;28mself\u001B[39m\u001B[38;5;241m.\u001B[39m_dooptimize \u001B[38;5;129;01mor\u001B[39;00m \u001B[38;5;28mself\u001B[39m\u001B[38;5;241m.\u001B[39mp\u001B[38;5;241m.\u001B[39mmaxcpus \u001B[38;5;241m==\u001B[39m \u001B[38;5;241m1\u001B[39m:\n\u001B[0;32m   1129\u001B[0m     \u001B[38;5;66;03m# If no optimmization is wished ... or 1 core is to be used\u001B[39;00m\n\u001B[0;32m   1130\u001B[0m     \u001B[38;5;66;03m# let's skip process \"spawning\"\u001B[39;00m\n\u001B[0;32m   1131\u001B[0m     \u001B[38;5;28;01mfor\u001B[39;00m iterstrat \u001B[38;5;129;01min\u001B[39;00m iterstrats:\n\u001B[1;32m-> 1132\u001B[0m         runstrat \u001B[38;5;241m=\u001B[39m \u001B[38;5;28;43mself\u001B[39;49m\u001B[38;5;241;43m.\u001B[39;49m\u001B[43mrunstrategies\u001B[49m\u001B[43m(\u001B[49m\u001B[43miterstrat\u001B[49m\u001B[43m)\u001B[49m\n\u001B[0;32m   1133\u001B[0m         \u001B[38;5;28mself\u001B[39m\u001B[38;5;241m.\u001B[39mrunstrats\u001B[38;5;241m.\u001B[39mappend(runstrat)\n\u001B[0;32m   1134\u001B[0m         \u001B[38;5;28;01mif\u001B[39;00m \u001B[38;5;28mself\u001B[39m\u001B[38;5;241m.\u001B[39m_dooptimize:\n",
      "File \u001B[1;32mD:\\CODE\\PYTHON\\FOCUS\\.venv\\lib\\site-packages\\backtrader\\cerebro.py:1217\u001B[0m, in \u001B[0;36mCerebro.runstrategies\u001B[1;34m(self, iterstrat, predata)\u001B[0m\n\u001B[0;32m   1215\u001B[0m         data\u001B[38;5;241m.\u001B[39m_start()\n\u001B[0;32m   1216\u001B[0m         \u001B[38;5;28;01mif\u001B[39;00m \u001B[38;5;28mself\u001B[39m\u001B[38;5;241m.\u001B[39m_dopreload:\n\u001B[1;32m-> 1217\u001B[0m             \u001B[43mdata\u001B[49m\u001B[38;5;241;43m.\u001B[39;49m\u001B[43mpreload\u001B[49m\u001B[43m(\u001B[49m\u001B[43m)\u001B[49m\n\u001B[0;32m   1219\u001B[0m \u001B[38;5;28;01mfor\u001B[39;00m stratcls, sargs, skwargs \u001B[38;5;129;01min\u001B[39;00m iterstrat:\n\u001B[0;32m   1220\u001B[0m     sargs \u001B[38;5;241m=\u001B[39m \u001B[38;5;28mself\u001B[39m\u001B[38;5;241m.\u001B[39mdatas \u001B[38;5;241m+\u001B[39m \u001B[38;5;28mlist\u001B[39m(sargs)\n",
      "File \u001B[1;32mD:\\CODE\\PYTHON\\FOCUS\\.venv\\lib\\site-packages\\backtrader\\feed.py:439\u001B[0m, in \u001B[0;36mAbstractDataBase.preload\u001B[1;34m(self)\u001B[0m\n\u001B[0;32m    438\u001B[0m \u001B[38;5;28;01mdef\u001B[39;00m\u001B[38;5;250m \u001B[39m\u001B[38;5;21mpreload\u001B[39m(\u001B[38;5;28mself\u001B[39m):\n\u001B[1;32m--> 439\u001B[0m     \u001B[38;5;28;01mwhile\u001B[39;00m \u001B[38;5;28;43mself\u001B[39;49m\u001B[38;5;241;43m.\u001B[39;49m\u001B[43mload\u001B[49m\u001B[43m(\u001B[49m\u001B[43m)\u001B[49m:\n\u001B[0;32m    440\u001B[0m         \u001B[38;5;28;01mpass\u001B[39;00m\n\u001B[0;32m    442\u001B[0m     \u001B[38;5;28mself\u001B[39m\u001B[38;5;241m.\u001B[39m_last()\n",
      "File \u001B[1;32mD:\\CODE\\PYTHON\\FOCUS\\.venv\\lib\\site-packages\\backtrader\\feed.py:480\u001B[0m, in \u001B[0;36mAbstractDataBase.load\u001B[1;34m(self)\u001B[0m\n\u001B[0;32m    477\u001B[0m     \u001B[38;5;28;01mreturn\u001B[39;00m \u001B[38;5;28;01mTrue\u001B[39;00m\n\u001B[0;32m    479\u001B[0m \u001B[38;5;28;01mif\u001B[39;00m \u001B[38;5;129;01mnot\u001B[39;00m \u001B[38;5;28mself\u001B[39m\u001B[38;5;241m.\u001B[39m_fromstack(stash\u001B[38;5;241m=\u001B[39m\u001B[38;5;28;01mTrue\u001B[39;00m):\n\u001B[1;32m--> 480\u001B[0m     _loadret \u001B[38;5;241m=\u001B[39m \u001B[38;5;28;43mself\u001B[39;49m\u001B[38;5;241;43m.\u001B[39;49m\u001B[43m_load\u001B[49m\u001B[43m(\u001B[49m\u001B[43m)\u001B[49m\n\u001B[0;32m    481\u001B[0m     \u001B[38;5;28;01mif\u001B[39;00m \u001B[38;5;129;01mnot\u001B[39;00m _loadret:  \u001B[38;5;66;03m# no bar use force to make sure in exactbars\u001B[39;00m\n\u001B[0;32m    482\u001B[0m         \u001B[38;5;66;03m# the pointer is undone this covers especially (but not\u001B[39;00m\n\u001B[0;32m    483\u001B[0m         \u001B[38;5;66;03m# uniquely) the case in which the last bar has been seen\u001B[39;00m\n\u001B[0;32m    484\u001B[0m         \u001B[38;5;66;03m# and a backwards would ruin pointer accounting in the\u001B[39;00m\n\u001B[0;32m    485\u001B[0m         \u001B[38;5;66;03m# \"stop\" method of the strategy\u001B[39;00m\n\u001B[0;32m    486\u001B[0m         \u001B[38;5;28mself\u001B[39m\u001B[38;5;241m.\u001B[39mbackwards(force\u001B[38;5;241m=\u001B[39m\u001B[38;5;28;01mTrue\u001B[39;00m)  \u001B[38;5;66;03m# undo data pointer\u001B[39;00m\n",
      "File \u001B[1;32mD:\\CODE\\PYTHON\\FOCUS\\.venv\\lib\\site-packages\\backtrader\\feeds\\pandafeed.py:268\u001B[0m, in \u001B[0;36mPandasData._load\u001B[1;34m(self)\u001B[0m\n\u001B[0;32m    265\u001B[0m     tstamp \u001B[38;5;241m=\u001B[39m \u001B[38;5;28mself\u001B[39m\u001B[38;5;241m.\u001B[39mp\u001B[38;5;241m.\u001B[39mdataname\u001B[38;5;241m.\u001B[39miloc[\u001B[38;5;28mself\u001B[39m\u001B[38;5;241m.\u001B[39m_idx, coldtime]\n\u001B[0;32m    267\u001B[0m \u001B[38;5;66;03m# convert to float via datetime and store it\u001B[39;00m\n\u001B[1;32m--> 268\u001B[0m dt \u001B[38;5;241m=\u001B[39m \u001B[43mtstamp\u001B[49m\u001B[38;5;241;43m.\u001B[39;49m\u001B[43mto_pydatetime\u001B[49m()\n\u001B[0;32m    269\u001B[0m dtnum \u001B[38;5;241m=\u001B[39m date2num(dt)\n\u001B[0;32m    270\u001B[0m \u001B[38;5;28mself\u001B[39m\u001B[38;5;241m.\u001B[39mlines\u001B[38;5;241m.\u001B[39mdatetime[\u001B[38;5;241m0\u001B[39m] \u001B[38;5;241m=\u001B[39m dtnum\n",
      "\u001B[1;31mAttributeError\u001B[0m: 'datetime.date' object has no attribute 'to_pydatetime'"
     ]
    }
   ],
   "execution_count": 2
  },
  {
   "metadata": {},
   "cell_type": "code",
   "outputs": [],
   "execution_count": null,
   "source": "",
   "id": "90741a33a81ca85e"
  }
 ],
 "metadata": {
  "kernelspec": {
   "display_name": "Python 3",
   "language": "python",
   "name": "python3"
  },
  "language_info": {
   "codemirror_mode": {
    "name": "ipython",
    "version": 2
   },
   "file_extension": ".py",
   "mimetype": "text/x-python",
   "name": "python",
   "nbconvert_exporter": "python",
   "pygments_lexer": "ipython2",
   "version": "2.7.6"
  }
 },
 "nbformat": 4,
 "nbformat_minor": 5
}
